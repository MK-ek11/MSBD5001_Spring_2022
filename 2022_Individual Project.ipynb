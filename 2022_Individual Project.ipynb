{
 "cells": [
  {
   "cell_type": "markdown",
   "id": "interracial-navigator",
   "metadata": {},
   "source": [
    "# MSBD 5001 Spring 2022 Individual Project"
   ]
  },
  {
   "cell_type": "code",
   "execution_count": 1,
   "id": "extensive-reader",
   "metadata": {},
   "outputs": [],
   "source": [
    "import pandas as pd\n",
    "import sklearn\n",
    "from sklearn.model_selection import cross_val_score\n",
    "from sklearn.model_selection import train_test_split\n",
    "from sklearn.ensemble import RandomForestClassifier\n",
    "from sklearn.metrics import accuracy_score\n",
    "from sklearn.model_selection import GridSearchCV\n",
    "from sklearn.ensemble import GradientBoostingClassifier\n",
    "from sklearn.ensemble import AdaBoostClassifier\n",
    "from sklearn.metrics import confusion_matrix, ConfusionMatrixDisplay\n",
    "import matplotlib.pyplot as plt"
   ]
  },
  {
   "cell_type": "markdown",
   "id": "boolean-point",
   "metadata": {},
   "source": [
    "### Data Preparation"
   ]
  },
  {
   "cell_type": "code",
   "execution_count": 2,
   "id": "seventh-validity",
   "metadata": {},
   "outputs": [
    {
     "name": "stdout",
     "output_type": "stream",
     "text": [
      "['MO HLADR+ MFI (cells/ul)', 'Neu CD64+MFI (cells/ul)', 'CD3+T (cells/ul)', 'CD8+T (cells/ul)', 'CD4+T (cells/ul)', 'NK (cells/ul)', 'CD19+ (cells/ul)', 'CD45+ (cells/ul)', 'Age', 'Sex 0M1F', 'Mono CD64+MFI (cells/ul)', 'label']\n"
     ]
    }
   ],
   "source": [
    "# Extract dataset\n",
    "data_df_original = pd.read_csv(\"train.csv\",index_col=0)\n",
    "data_df_test = pd.read_csv(\"test.csv\",index_col=0)\n",
    "data_df = data_df_original.copy()\n",
    "data_attribute = data_df.columns.values.tolist()\n",
    "print(data_attribute)"
   ]
  },
  {
   "cell_type": "code",
   "execution_count": 3,
   "id": "protective-briefing",
   "metadata": {},
   "outputs": [
    {
     "name": "stdout",
     "output_type": "stream",
     "text": [
      "MO HLADR+ MFI (cells/ul)    1\n",
      "Neu CD64+MFI (cells/ul)     1\n",
      "CD3+T (cells/ul)            0\n",
      "CD8+T (cells/ul)            0\n",
      "CD4+T (cells/ul)            0\n",
      "NK (cells/ul)               0\n",
      "CD19+ (cells/ul)            0\n",
      "CD45+ (cells/ul)            0\n",
      "Age                         0\n",
      "Sex 0M1F                    0\n",
      "Mono CD64+MFI (cells/ul)    1\n",
      "label                       0\n",
      "dtype: int64\n"
     ]
    }
   ],
   "source": [
    "# Check empty rows\n",
    "data_null_info = data_df.isnull().sum()\n",
    "print(data_null_info)"
   ]
  },
  {
   "cell_type": "code",
   "execution_count": 4,
   "id": "graphic-image",
   "metadata": {},
   "outputs": [
    {
     "name": "stdout",
     "output_type": "stream",
     "text": [
      "MO HLADR+ MFI (cells/ul)    0\n",
      "Neu CD64+MFI (cells/ul)     0\n",
      "CD3+T (cells/ul)            0\n",
      "CD8+T (cells/ul)            0\n",
      "CD4+T (cells/ul)            0\n",
      "NK (cells/ul)               0\n",
      "CD19+ (cells/ul)            0\n",
      "CD45+ (cells/ul)            0\n",
      "Age                         0\n",
      "Sex 0M1F                    0\n",
      "Mono CD64+MFI (cells/ul)    0\n",
      "label                       0\n",
      "dtype: int64\n"
     ]
    }
   ],
   "source": [
    "# Use Median to fill in the empty entries\n",
    "median_col2 = data_df[\"MO HLADR+ MFI (cells/ul)\"].median()\n",
    "median_col3 = data_df[\"Neu CD64+MFI (cells/ul)\"].median()\n",
    "median_col12 = data_df[\"Mono CD64+MFI (cells/ul)\"].median()\n",
    "\n",
    "data_df[\"MO HLADR+ MFI (cells/ul)\"]= data_df[\"MO HLADR+ MFI (cells/ul)\"].fillna(median_col2)\n",
    "data_df[\"Neu CD64+MFI (cells/ul)\"]= data_df[\"Neu CD64+MFI (cells/ul)\"].fillna(median_col3)\n",
    "data_df[\"Mono CD64+MFI (cells/ul)\"]= data_df[\"Mono CD64+MFI (cells/ul)\"].fillna(median_col12)\n",
    "\n",
    "data_null_info = data_df.isnull().sum()\n",
    "print(data_null_info)"
   ]
  },
  {
   "cell_type": "markdown",
   "id": "unauthorized-library",
   "metadata": {},
   "source": [
    "### Extract Training and Validation Dataset"
   ]
  },
  {
   "cell_type": "code",
   "execution_count": 5,
   "id": "different-boxing",
   "metadata": {},
   "outputs": [
    {
     "name": "stdout",
     "output_type": "stream",
     "text": [
      "60\n",
      "27\n"
     ]
    }
   ],
   "source": [
    "# Extract Training and Validation Dataset\n",
    "X = data_df.drop([\"label\"], axis=1)\n",
    "y = data_df[\"label\"]\n",
    "# Extract Testing Dataset\n",
    "X_test = data_df_test.copy()\n",
    "\n",
    "X_train, X_validation, y_train, y_validation = train_test_split(X, y, test_size=0.3,random_state=100)\n",
    "print(len(X_train))\n",
    "print(len(X_validation))"
   ]
  },
  {
   "cell_type": "markdown",
   "id": "enhanced-gates",
   "metadata": {},
   "source": [
    "### Training and Validation Stage"
   ]
  },
  {
   "cell_type": "markdown",
   "id": "current-norfolk",
   "metadata": {},
   "source": [
    "##### Random Forest Classifiers"
   ]
  },
  {
   "cell_type": "code",
   "execution_count": 6,
   "id": "removed-history",
   "metadata": {},
   "outputs": [
    {
     "name": "stdout",
     "output_type": "stream",
     "text": [
      "Number of Estimators: 50\n",
      "validation accuracy: 0.8888888888888888\n"
     ]
    },
    {
     "data": {
      "image/png": "[encoded data removed]",
      "text/plain": [
       "<Figure size 432x288 with 2 Axes>"
      ]
     },
     "metadata": {
      "needs_background": "light"
     },
     "output_type": "display_data"
    }
   ],
   "source": [
    "#######################################\n",
    "# Random Forest Classifiers\n",
    "#######################################\n",
    "tuned_parameters = [{'n_estimators': [10,20,30,40,50,60,70,80,90,100]}]\n",
    "\n",
    "# Determine best n_estimator \n",
    "clf_grid = GridSearchCV(RandomForestClassifier(random_state=20), tuned_parameters, cv=5,scoring='accuracy')\n",
    "clf_grid.fit(X_train.values, y_train.values)\n",
    "\n",
    "# Training RandomForest with best n_estimator\n",
    "clf_model_randomforest = RandomForestClassifier(max_depth=100, n_estimators=clf_grid.best_params_[\"n_estimators\"],\n",
    "                               criterion= \"gini\",random_state=20)\n",
    "clf_model_randomforest.fit(X_train.values, y_train.values)\n",
    "\n",
    "# Validate RandomForest with Validation dataset\n",
    "predict_y_validation = clf_model_randomforest.predict(X_validation.values)\n",
    "accuracy_score_results = accuracy_score(y_validation.values, predict_y_validation)\n",
    "print(\"Number of Estimators:\",clf_grid.best_params_[\"n_estimators\"] )\n",
    "print(\"validation accuracy:\", accuracy_score_results)\n",
    "\n",
    "#########################################\n",
    "### Display Confusion Matrix\n",
    "ConfusionMatrixDisplay.from_predictions(y_validation.values, predict_y_validation, cmap='YlGn')\n",
    "plt.title(\"\"\"Confusion Matrix for GridSearchCV: Accuracy{:.4}\"\"\".format(accuracy_score_results),color='green')\n",
    "plt.show()"
   ]
  },
  {
   "cell_type": "markdown",
   "id": "loose-teaching",
   "metadata": {},
   "source": [
    "### Testing Stage"
   ]
  },
  {
   "cell_type": "code",
   "execution_count": 7,
   "id": "protecting-intake",
   "metadata": {},
   "outputs": [],
   "source": [
    "#### Generate Test Prediction \n",
    "Y_test_prediction_randomforest = clf_model_randomforest.predict(X_test.values).tolist()"
   ]
  },
  {
   "cell_type": "markdown",
   "id": "commercial-counter",
   "metadata": {},
   "source": [
    "### Generate Submission csv from the RandomForest Classifier Test Prediction"
   ]
  },
  {
   "cell_type": "code",
   "execution_count": 8,
   "id": "tutorial-newfoundland",
   "metadata": {},
   "outputs": [],
   "source": [
    "y_id_list = X_test.index.tolist()\n",
    "\n",
    "test_df = pd.DataFrame({\"id\":y_id_list, \"label\":Y_test_prediction_randomforest})\n",
    "test_df.to_csv(\"submission.csv\",index=False)"
   ]
  },
  {
   "cell_type": "code",
   "execution_count": null,
   "id": "outdoor-wilderness",
   "metadata": {},
   "outputs": [],
   "source": []
  }
 ],
 "metadata": {
  "kernelspec": {
   "display_name": "Python 3 (ipykernel)",
   "language": "python",
   "name": "python3"
  },
  "language_info": {
   "codemirror_mode": {
    "name": "ipython",
    "version": 3
   },
   "file_extension": ".py",
   "mimetype": "text/x-python",
   "name": "python",
   "nbconvert_exporter": "python",
   "pygments_lexer": "ipython3",
   "version": "3.9.7"
  }
 },
 "nbformat": 4,
 "nbformat_minor": 5
}
